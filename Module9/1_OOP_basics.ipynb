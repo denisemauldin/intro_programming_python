{
 "cells": [
  {
   "cell_type": "markdown",
   "metadata": {
    "deletable": true,
    "editable": true
   },
   "source": [
    "# Basics of Object Oriented Programming"
   ]
  },
  {
   "cell_type": "markdown",
   "metadata": {
    "deletable": true,
    "editable": true
   },
   "source": [
    "## Objects\n",
    "Everything in python is an object. Except classes. \n",
    "- single data structure\n",
    "- contains data and functions\n",
    "- functions of objects are called methods "
   ]
  },
  {
   "cell_type": "code",
   "execution_count": 4,
   "metadata": {
    "collapsed": false,
    "deletable": true,
    "editable": true
   },
   "outputs": [
    {
     "data": {
      "text/plain": [
       "8"
      ]
     },
     "execution_count": 4,
     "metadata": {},
     "output_type": "execute_result"
    }
   ],
   "source": [
    "# Python is checking whether the string object has a length. \n",
    "len(\"Vikings!\")"
   ]
  },
  {
   "cell_type": "markdown",
   "metadata": {
    "deletable": true,
    "editable": true
   },
   "source": [
    "#### But what makes \"Vikings!\" a string?\n",
    "- It's an instance of the string class\n",
    "- It inherits all the properties and methods of the string class"
   ]
  },
  {
   "cell_type": "markdown",
   "metadata": {
    "deletable": true,
    "editable": true
   },
   "source": [
    "## Classes\n",
    "Think of classes a container to put together objects and functions with similar properties and methods.\n",
    "\n",
    "Classes are like the bluprint for creating objects. \n",
    "\n",
    "## Basic Syntax\n",
    "\n",
    "- Declare you are creating a class\n",
    "- Some versions of python require a class to inherit from object class\n",
    "- Python 2.7+ does this automatically"
   ]
  },
  {
   "cell_type": "code",
   "execution_count": 6,
   "metadata": {
    "collapsed": true,
    "deletable": true,
    "editable": true
   },
   "outputs": [],
   "source": [
    "class MyCapitializedClassName():\n",
    "    pass # do stuff here"
   ]
  },
  {
   "cell_type": "markdown",
   "metadata": {
    "deletable": true,
    "editable": true
   },
   "source": [
    "### You've already been working with classes\n",
    "You've already been using classes when you import modules! A good example of this is the pandas module."
   ]
  },
  {
   "cell_type": "code",
   "execution_count": null,
   "metadata": {
    "collapsed": true,
    "deletable": true,
    "editable": true
   },
   "outputs": [],
   "source": [
    "# keyword class, followed by uppercase class name\n",
    "class Pandas():\n",
    "    \n",
    "    # characteristics = attributes\n",
    "    # these don't change and are global to all functions in the class\n",
    "    tsv = \"\\t\"\n",
    "    csv = \",\"\n",
    "    \n",
    "    # behavior = method\n",
    "    # your functions that can be called outside of the class/script\n",
    "    def read_csv(self, input_csv):\n",
    "        # function to read in a csv and parse it\n",
    "        pass"
   ]
  },
  {
   "cell_type": "code",
   "execution_count": null,
   "metadata": {
    "collapsed": true,
    "deletable": true,
    "editable": true
   },
   "outputs": [],
   "source": [
    "# here we are importing the pandas module class\n",
    "import pandas as pd\n",
    "\n",
    "# and here is how we use a method from the imported class\n",
    "in_file = pd.read_csv(\"fake_file.txt\")"
   ]
  },
  {
   "cell_type": "markdown",
   "metadata": {
    "deletable": true,
    "editable": true
   },
   "source": [
    "When we read in files using pandas (or any other package) we are calling the read_csv function from the Pandas class, which also contains all the other related functions from the pandas package. "
   ]
  },
  {
   "cell_type": "markdown",
   "metadata": {
    "deletable": true,
    "editable": true
   },
   "source": [
    "#### Why do we need to pass the \"self\" argument? \n"
   ]
  },
  {
   "cell_type": "code",
   "execution_count": null,
   "metadata": {
    "collapsed": true,
    "deletable": true,
    "editable": true
   },
   "outputs": [],
   "source": [
    " def read_csv(self, input_csv):\n",
    "        # function to read in a csv and parse it\n",
    "        pass"
   ]
  },
  {
   "cell_type": "markdown",
   "metadata": {
    "deletable": true,
    "editable": true
   },
   "source": [
    "- Each method in a class must have one special first argument, conventionally called \"self\"\n",
    "- This lets python know that the method is being inherited from the class\n",
    "- It passes along the information about which object is calling it and grabs all the class information that the object can access\n",
    "- Never actually use this argument directly, but it won't work without it\n",
    "- We'll see this in action below"
   ]
  },
  {
   "cell_type": "markdown",
   "metadata": {
    "deletable": true,
    "editable": true
   },
   "source": [
    "## Let's work through a more detailed example (from your text)"
   ]
  },
  {
   "cell_type": "code",
   "execution_count": 8,
   "metadata": {
    "collapsed": true,
    "deletable": true,
    "editable": true
   },
   "outputs": [],
   "source": [
    "# define a class with an uppercase name\n",
    "class Critter():\n",
    "    \n",
    "    # define a method, using the self parameter\n",
    "    def talk(self):\n",
    "        print(\"Hi. I'm an instance of class Critter\")"
   ]
  },
  {
   "cell_type": "markdown",
   "metadata": {
    "deletable": true,
    "editable": true
   },
   "source": [
    "### Instantiating a class\n",
    "- Assign the class to a variable"
   ]
  },
  {
   "cell_type": "code",
   "execution_count": 11,
   "metadata": {
    "collapsed": true,
    "deletable": true,
    "editable": true
   },
   "outputs": [],
   "source": [
    "# assignment is done using the class method, so it requires ()\n",
    "crit = Critter()"
   ]
  },
  {
   "cell_type": "markdown",
   "metadata": {
    "deletable": true,
    "editable": true
   },
   "source": [
    "### Using a class method"
   ]
  },
  {
   "cell_type": "code",
   "execution_count": 10,
   "metadata": {
    "collapsed": false,
    "deletable": true,
    "editable": true
   },
   "outputs": [
    {
     "name": "stdout",
     "output_type": "stream",
     "text": [
      "Hi. I'm an instance of class Critter\n"
     ]
    }
   ],
   "source": [
    "crit.talk()"
   ]
  },
  {
   "cell_type": "markdown",
   "metadata": {
    "deletable": true,
    "editable": true
   },
   "source": [
    "### Creating a Constructor (Initialization Method)\n",
    "- first thing that the script calls after the class is instantiated\n",
    "- Here you can pass in arguments during instantiation that you can use as parameters in your class methods"
   ]
  },
  {
   "cell_type": "code",
   "execution_count": 17,
   "metadata": {
    "collapsed": true,
    "deletable": true,
    "editable": true
   },
   "outputs": [],
   "source": [
    "# define a class with an uppercase name\n",
    "class Critter():\n",
    "    \n",
    "    def __init__(self, name):\n",
    "       print(\"A new critter has been born!\")\n",
    "    \n",
    "    # define a method, using the self parameter\n",
    "    def talk(self):\n",
    "        print(\"Hi. I'm an instance of class Critter\")"
   ]
  },
  {
   "cell_type": "markdown",
   "metadata": {
    "deletable": true,
    "editable": true
   },
   "source": [
    "We've added an argumen to init, so this must be passed when instantiating the class: "
   ]
  },
  {
   "cell_type": "code",
   "execution_count": 18,
   "metadata": {
    "collapsed": false,
    "deletable": true,
    "editable": true
   },
   "outputs": [
    {
     "name": "stdout",
     "output_type": "stream",
     "text": [
      "A new critter has been born!\n"
     ]
    }
   ],
   "source": [
    "crit = Critter(name=\"Benjamin\")"
   ]
  },
  {
   "cell_type": "markdown",
   "metadata": {
    "deletable": true,
    "editable": true
   },
   "source": [
    "### Instance Attributes\n",
    "Attributes that are specific to each instance of the class"
   ]
  },
  {
   "cell_type": "code",
   "execution_count": 1,
   "metadata": {
    "collapsed": true,
    "deletable": true,
    "editable": true
   },
   "outputs": [],
   "source": [
    "class Critter():\n",
    "    \n",
    "    def __init__(self, name):\n",
    "       # name is an attribute of the Critter class\n",
    "        self.name = name\n",
    "        print(\"A new critter, {}, has been born!\".format(self.name))\n",
    "    \n",
    "    # define a method, using the self parameter\n",
    "    def talk(self):\n",
    "        print(\"Hi. I'm {}\".format(self.name))\n",
    "    \n",
    "    # using python's __str__ method\n",
    "    def __str__(self):\n",
    "        rep = \"Critter object\\n \"\n",
    "        rep += \"name: {} \\n\".format(self.name)\n",
    "        return rep\n"
   ]
  },
  {
   "cell_type": "code",
   "execution_count": 3,
   "metadata": {
    "collapsed": false,
    "deletable": true,
    "editable": true
   },
   "outputs": [
    {
     "name": "stdout",
     "output_type": "stream",
     "text": [
      "A new critter, Benjamin, has been born!\n",
      "A new critter, Scooby, has been born!\n"
     ]
    }
   ],
   "source": [
    "''' Here self refers to an instance of Critter \n",
    "class instantiated with the name Benjamin'''\n",
    "Benji = Critter(name=\"Benjamin\")\n",
    "'''Here self refers to an instance of Critter \n",
    "class instantiated with the name Scooby'''\n",
    "Scooby = Critter(name=\"Scooby\")"
   ]
  },
  {
   "cell_type": "markdown",
   "metadata": {},
   "source": [
    "#### The value of talk is different for each instance of the class"
   ]
  },
  {
   "cell_type": "code",
   "execution_count": 4,
   "metadata": {
    "collapsed": false,
    "deletable": true,
    "editable": true
   },
   "outputs": [
    {
     "name": "stdout",
     "output_type": "stream",
     "text": [
      "Hi. I'm Benjamin\n"
     ]
    }
   ],
   "source": [
    "Benji.talk()"
   ]
  },
  {
   "cell_type": "code",
   "execution_count": 5,
   "metadata": {
    "collapsed": false,
    "deletable": true,
    "editable": true
   },
   "outputs": [
    {
     "name": "stdout",
     "output_type": "stream",
     "text": [
      "Hi. I'm Scooby\n"
     ]
    }
   ],
   "source": [
    "Scooby.talk()"
   ]
  },
  {
   "cell_type": "markdown",
   "metadata": {
    "deletable": true,
    "editable": true
   },
   "source": [
    "## Python Special Built-In Functions"
   ]
  },
  {
   "cell_type": "markdown",
   "metadata": {
    "deletable": true,
    "editable": true
   },
   "source": [
    "#### The \\__str\\__ method\n",
    "- Creates a string that will be printed when someone prints the Class name"
   ]
  },
  {
   "cell_type": "code",
   "execution_count": null,
   "metadata": {
    "collapsed": true,
    "deletable": true,
    "editable": true
   },
   "outputs": [],
   "source": [
    "def __str__(self):\n",
    "        rep = \"Critter object\\n \"\n",
    "        rep += \"name: {} \\n\".format(self.name)\n",
    "        return rep"
   ]
  },
  {
   "cell_type": "code",
   "execution_count": 27,
   "metadata": {
    "collapsed": false,
    "deletable": true,
    "editable": true
   },
   "outputs": [
    {
     "name": "stdout",
     "output_type": "stream",
     "text": [
      "Critter object\n",
      " name: Benjamin \n",
      "\n"
     ]
    }
   ],
   "source": [
    "print(Benji)"
   ]
  },
  {
   "cell_type": "code",
   "execution_count": 28,
   "metadata": {
    "collapsed": false,
    "deletable": true,
    "editable": true
   },
   "outputs": [
    {
     "name": "stdout",
     "output_type": "stream",
     "text": [
      "Critter object\n",
      " name: Scooby \n",
      "\n"
     ]
    }
   ],
   "source": [
    "print(Scooby)"
   ]
  },
  {
   "cell_type": "code",
   "execution_count": 29,
   "metadata": {
    "collapsed": false,
    "deletable": true,
    "editable": true
   },
   "outputs": [
    {
     "data": {
      "text/plain": [
       "'Benjamin'"
      ]
     },
     "execution_count": 29,
     "metadata": {},
     "output_type": "execute_result"
    }
   ],
   "source": [
    "Benji.name"
   ]
  },
  {
   "cell_type": "code",
   "execution_count": 30,
   "metadata": {
    "collapsed": false,
    "deletable": true,
    "editable": true
   },
   "outputs": [
    {
     "data": {
      "text/plain": [
       "'Scooby'"
      ]
     },
     "execution_count": 30,
     "metadata": {},
     "output_type": "execute_result"
    }
   ],
   "source": [
    "Scooby.name"
   ]
  },
  {
   "cell_type": "markdown",
   "metadata": {
    "deletable": true,
    "editable": true
   },
   "source": [
    "### The \\__repr\\__ method\n",
    "Similar to the string method, but more for developers as it is often used for debugging: \n",
    "- Yields a valid python expression that can be evaluated\n",
    "- __str__ on the other hand, only returns a string"
   ]
  },
  {
   "cell_type": "code",
   "execution_count": 45,
   "metadata": {
    "collapsed": false,
    "deletable": true,
    "editable": true
   },
   "outputs": [
    {
     "data": {
      "text/plain": [
       "'2017-03-06 21:21:20.747267'"
      ]
     },
     "execution_count": 45,
     "metadata": {},
     "output_type": "execute_result"
    }
   ],
   "source": [
    "import datetime\n",
    "now = datetime.datetime.now() \n",
    "\n",
    "str(now)"
   ]
  },
  {
   "cell_type": "code",
   "execution_count": 47,
   "metadata": {
    "collapsed": false,
    "deletable": true,
    "editable": true
   },
   "outputs": [
    {
     "data": {
      "text/plain": [
       "'datetime.datetime(2017, 3, 6, 21, 21, 20, 747267)'"
      ]
     },
     "execution_count": 47,
     "metadata": {},
     "output_type": "execute_result"
    }
   ],
   "source": [
    "repr(now)"
   ]
  },
  {
   "cell_type": "markdown",
   "metadata": {
    "deletable": true,
    "editable": true
   },
   "source": [
    "[More info here](http://brennerm.github.io/posts/python-str-vs-repr.html)"
   ]
  },
  {
   "cell_type": "markdown",
   "metadata": {
    "deletable": true,
    "editable": true
   },
   "source": [
    "### The \\__dict\\__ method\n",
    "View all the attributes for a class"
   ]
  },
  {
   "cell_type": "code",
   "execution_count": 51,
   "metadata": {
    "collapsed": false,
    "deletable": true,
    "editable": true
   },
   "outputs": [
    {
     "data": {
      "text/plain": [
       "{'name': 'Scooby'}"
      ]
     },
     "execution_count": 51,
     "metadata": {},
     "output_type": "execute_result"
    }
   ],
   "source": [
    "Scooby.__dict__"
   ]
  },
  {
   "cell_type": "markdown",
   "metadata": {
    "collapsed": true,
    "deletable": true,
    "editable": true
   },
   "source": [
    "#### What other methods are available? "
   ]
  },
  {
   "cell_type": "code",
   "execution_count": 57,
   "metadata": {
    "collapsed": false,
    "deletable": true,
    "editable": true
   },
   "outputs": [
    {
     "data": {
      "text/plain": [
       "['__class__',\n",
       " '__delattr__',\n",
       " '__dict__',\n",
       " '__dir__',\n",
       " '__doc__',\n",
       " '__eq__',\n",
       " '__format__',\n",
       " '__ge__',\n",
       " '__getattribute__',\n",
       " '__gt__',\n",
       " '__hash__',\n",
       " '__init__',\n",
       " '__le__',\n",
       " '__lt__',\n",
       " '__module__',\n",
       " '__ne__',\n",
       " '__new__',\n",
       " '__reduce__',\n",
       " '__reduce_ex__',\n",
       " '__repr__',\n",
       " '__setattr__',\n",
       " '__sizeof__',\n",
       " '__str__',\n",
       " '__subclasshook__',\n",
       " '__weakref__',\n",
       " 'name',\n",
       " 'talk']"
      ]
     },
     "execution_count": 57,
     "metadata": {},
     "output_type": "execute_result"
    }
   ],
   "source": [
    "dir(Scooby)"
   ]
  },
  {
   "cell_type": "code",
   "execution_count": null,
   "metadata": {
    "collapsed": true,
    "deletable": true,
    "editable": true
   },
   "outputs": [],
   "source": []
  }
 ],
 "metadata": {
  "kernelspec": {
   "display_name": "Python 3",
   "language": "python",
   "name": "python3"
  },
  "language_info": {
   "codemirror_mode": {
    "name": "ipython",
    "version": 3
   },
   "file_extension": ".py",
   "mimetype": "text/x-python",
   "name": "python",
   "nbconvert_exporter": "python",
   "pygments_lexer": "ipython3",
   "version": "3.5.2"
  }
 },
 "nbformat": 4,
 "nbformat_minor": 2
}
