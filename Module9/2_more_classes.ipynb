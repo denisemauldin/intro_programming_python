{
 "cells": [
  {
   "cell_type": "markdown",
   "metadata": {
    "collapsed": true,
    "deletable": true,
    "editable": true
   },
   "source": [
    "# More on classes"
   ]
  },
  {
   "cell_type": "code",
   "execution_count": 1,
   "metadata": {
    "collapsed": true
   },
   "outputs": [],
   "source": [
    "class Critter():\n",
    "    \n",
    "    def __init__(self, name):\n",
    "       # name is an attribute of the Critter class\n",
    "        self.name = name\n",
    "        print(\"A new critter, {}, has been born!\".format(self.name))\n",
    "    \n",
    "    # define a method, using the self parameter\n",
    "    def talk(self):\n",
    "        print(\"Hi. I'm {}\".format(self.name))\n",
    "    \n",
    "    # using python's __str__ method\n",
    "    def __str__(self):\n",
    "        rep = \"Critter object\\n \"\n",
    "        rep += \"name: {} \\n\".format(self.name)\n",
    "        return rep\n"
   ]
  },
  {
   "cell_type": "markdown",
   "metadata": {},
   "source": [
    "## Class attributes \n",
    "Attributes that belong to the class itself, and not an instance of the class\n",
    "- These attributes are shared by all instances of the class"
   ]
  },
  {
   "cell_type": "code",
   "execution_count": 9,
   "metadata": {
    "collapsed": true
   },
   "outputs": [],
   "source": [
    "class Critter():\n",
    "    \n",
    "    total = 0\n",
    "    \n",
    "    def __init__(self, name):\n",
    "       # name is an attribute of the Critter class\n",
    "        self.name = name\n",
    "        print(\"A new critter, {}, has been born!\".format(self.name))\n",
    "        Critter.total += 1\n",
    "    \n",
    "    # define a method, using the self parameter\n",
    "    def talk(self):\n",
    "        print(\"Hi. I'm {}\".format(self.name))\n",
    "    \n",
    "    # using python's __str__ method\n",
    "    def __str__(self):\n",
    "        rep = \"Critter object\\n \"\n",
    "        rep += \"name: {} \\n\".format(self.name)\n",
    "        return rep"
   ]
  },
  {
   "cell_type": "code",
   "execution_count": 10,
   "metadata": {
    "collapsed": false
   },
   "outputs": [
    {
     "name": "stdout",
     "output_type": "stream",
     "text": [
      "A new critter, Fred, has been born!\n"
     ]
    }
   ],
   "source": [
    "crit = Critter(\"Fred\")"
   ]
  },
  {
   "cell_type": "code",
   "execution_count": 11,
   "metadata": {
    "collapsed": false
   },
   "outputs": [
    {
     "data": {
      "text/plain": [
       "1"
      ]
     },
     "execution_count": 11,
     "metadata": {},
     "output_type": "execute_result"
    }
   ],
   "source": [
    "crit.total"
   ]
  },
  {
   "cell_type": "code",
   "execution_count": 12,
   "metadata": {
    "collapsed": false
   },
   "outputs": [
    {
     "name": "stdout",
     "output_type": "stream",
     "text": [
      "A new critter, Sally Lue, has been born!\n"
     ]
    }
   ],
   "source": [
    "crit2 = Critter(\"Sally Lue\")"
   ]
  },
  {
   "cell_type": "code",
   "execution_count": 13,
   "metadata": {
    "collapsed": false
   },
   "outputs": [
    {
     "data": {
      "text/plain": [
       "2"
      ]
     },
     "execution_count": 13,
     "metadata": {},
     "output_type": "execute_result"
    }
   ],
   "source": [
    "crit2.total"
   ]
  },
  {
   "cell_type": "code",
   "execution_count": 14,
   "metadata": {
    "collapsed": false
   },
   "outputs": [
    {
     "data": {
      "text/plain": [
       "2"
      ]
     },
     "execution_count": 14,
     "metadata": {},
     "output_type": "execute_result"
    }
   ],
   "source": [
    "crit.total"
   ]
  },
  {
   "cell_type": "markdown",
   "metadata": {},
   "source": [
    "## Static Methods\n",
    "Similar to class attributes, these are functions that belong to the class, and not to any particular instance of the class"
   ]
  },
  {
   "cell_type": "code",
   "execution_count": 15,
   "metadata": {
    "collapsed": true
   },
   "outputs": [],
   "source": [
    "class Critter():\n",
    "    \n",
    "    total = 0\n",
    "    \n",
    "    def __init__(self, name):\n",
    "       # name is an attribute of the Critter class\n",
    "        self.name = name\n",
    "        print(\"A new critter, {}, has been born!\".format(self.name))\n",
    "        Critter.total += 1\n",
    "    \n",
    "    # define a method, using the self parameter\n",
    "    def talk(self):\n",
    "        print(\"Hi. I'm {}\".format(self.name))\n",
    "    \n",
    "    # using python's __str__ method\n",
    "    def __str__(self):\n",
    "        rep = \"Critter object\\n \"\n",
    "        rep += \"name: {} \\n\".format(self.name)\n",
    "        return rep\n",
    "\n",
    "    @staticmethod\n",
    "    def status():\n",
    "        print(\"There are {} critters\".format(Critter.total))\n",
    "        "
   ]
  },
  {
   "cell_type": "code",
   "execution_count": 16,
   "metadata": {
    "collapsed": false
   },
   "outputs": [
    {
     "name": "stdout",
     "output_type": "stream",
     "text": [
      "A new critter, Jimbo, has been born!\n"
     ]
    }
   ],
   "source": [
    "static_crit = Critter(\"Jimbo\")"
   ]
  },
  {
   "cell_type": "code",
   "execution_count": 18,
   "metadata": {
    "collapsed": false
   },
   "outputs": [
    {
     "name": "stdout",
     "output_type": "stream",
     "text": [
      "There are 1 critters\n"
     ]
    }
   ],
   "source": [
    "Critter.status()"
   ]
  },
  {
   "cell_type": "code",
   "execution_count": 20,
   "metadata": {
    "collapsed": false
   },
   "outputs": [
    {
     "name": "stdout",
     "output_type": "stream",
     "text": [
      "A new critter, Schubert, has been born!\n"
     ]
    }
   ],
   "source": [
    "static_crit2 = Critter(\"Schubert\")"
   ]
  },
  {
   "cell_type": "code",
   "execution_count": 21,
   "metadata": {
    "collapsed": false
   },
   "outputs": [
    {
     "name": "stdout",
     "output_type": "stream",
     "text": [
      "There are 2 critters\n"
     ]
    }
   ],
   "source": [
    "Critter.status()"
   ]
  },
  {
   "cell_type": "markdown",
   "metadata": {},
   "source": [
    "#### For more info, read your text from pages 226-239"
   ]
  }
 ],
 "metadata": {
  "kernelspec": {
   "display_name": "Python 3",
   "language": "python",
   "name": "python3"
  },
  "language_info": {
   "codemirror_mode": {
    "name": "ipython",
    "version": 3
   },
   "file_extension": ".py",
   "mimetype": "text/x-python",
   "name": "python",
   "nbconvert_exporter": "python",
   "pygments_lexer": "ipython3",
   "version": "3.5.2"
  }
 },
 "nbformat": 4,
 "nbformat_minor": 2
}
