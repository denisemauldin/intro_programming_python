{
 "cells": [
  {
   "cell_type": "markdown",
   "metadata": {
    "deletable": true,
    "editable": true
   },
   "source": [
    "# Final Projects"
   ]
  },
  {
   "cell_type": "markdown",
   "metadata": {
    "collapsed": true,
    "deletable": true,
    "editable": true
   },
   "source": [
    "- Due by the end of Week 10\n",
    "- This is your homework for Week 10, not an additional assignment\n",
    "- Worth 200 points\n",
    "- You can use this for your extra credit lightning talks\n"
   ]
  },
  {
   "cell_type": "markdown",
   "metadata": {},
   "source": [
    "#### What is it? \n",
    "You create a script. \n",
    "\n",
    "Make this as awesome, cheesy, simple, difficult as you want! But it will be graded as follows: "
   ]
  },
  {
   "cell_type": "markdown",
   "metadata": {},
   "source": [
    "#### Grading Criteria: \n",
    "\n",
    "#### Must: \n",
    "- Include a function that takes at least two user arguments from the command line\n",
    "- Contain at least one if/else statement\n",
    "- Perform a caclulation on a list\n",
    "- Use at least one dictionary\n",
    "- Have one try/except clause for every function\n",
    "- Output something (write) to a file, using string formatting\n",
    "- Must include docstrings telling us how to run your script. \n",
    "\n",
    "#### Options: \n",
    "- Either create a class to contain the related functions OR output a simple graph \n",
    "\n",
    "#### To Turn in: \n",
    "Upload your final python script or jupyter notebook to Github, turn in the link on Canvas\n"
   ]
  },
  {
   "cell_type": "markdown",
   "metadata": {},
   "source": [
    "## What you get out of this is up to you; you can make this as simple or awesome as you want! "
   ]
  },
  {
   "cell_type": "code",
   "execution_count": null,
   "metadata": {
    "collapsed": true
   },
   "outputs": [],
   "source": []
  }
 ],
 "metadata": {
  "kernelspec": {
   "display_name": "Python 3",
   "language": "python",
   "name": "python3"
  },
  "language_info": {
   "codemirror_mode": {
    "name": "ipython",
    "version": 3
   },
   "file_extension": ".py",
   "mimetype": "text/x-python",
   "name": "python",
   "nbconvert_exporter": "python",
   "pygments_lexer": "ipython3",
   "version": "3.5.2"
  }
 },
 "nbformat": 4,
 "nbformat_minor": 2
}
