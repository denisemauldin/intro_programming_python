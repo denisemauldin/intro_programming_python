{
 "cells": [
  {
   "cell_type": "markdown",
   "metadata": {},
   "source": [
    "# Formatting Lab "
   ]
  },
  {
   "cell_type": "markdown",
   "metadata": {},
   "source": [
    "Someone quit their job after writing a broken script and we have to fix it to output data properly.\n",
    "\n",
    "0. Download and try to run the script `module2_lab1.py`. Note that it doesn't run correctly:\n",
    "\n",
    "    ```bash\n",
    "    $ python3 module2_lab1.py\n",
    "      File \"module2_lab1.py\", line 8\n",
    "        a table of rows where the first row\n",
    "              ^\n",
    "    SyntaxError: invalid syntax\n",
    "    ```\n",
    "\n",
    "0. Find and fix the 3 bad comment sections. Rerun the script when you feel like the problem is solved.\n",
    "When it runs successfully you'll see output like this:\n",
    "\n",
    "    ```bash\n",
    "    $ python3 module2_lab1.py\n",
    "    FirstName|LastName|City|Zipcode\n",
    "    Greg|Corradini|Minneapolis|75432\n",
    "    Summer|Rae|Seattle|98103\n",
    "    ```\n",
    "\n",
    "0. Unfortunately, this script is supposed to output a slightly nicer formatted table structure. How might you modify the\n",
    "last part of the script to produce output that looks sorta like one of the options below?\n",
    "\n",
    "    ```bash\n",
    "    |FirstName    |LastName    |City    |Zipcode    |\n",
    "    |Greg    |Corradini    |Minneapolis    |75432    |\n",
    "    |Summer    |Rae    |Seattle    |98103    |\n",
    "    ```\n",
    "\n",
    "    ```bash\n",
    "    |FirstName    |LastName     |City         |Zipcode      |\n",
    "    |Greg         |Corradini    |Minneapolis  |75432        |\n",
    "    |Summer       |Rae          |Seattle      |98103        |\n",
    "    ```"
   ]
  }
 ],
 "metadata": {
  "kernelspec": {
   "display_name": "Python 3",
   "language": "python",
   "name": "python3"
  },
  "language_info": {
   "codemirror_mode": {
    "name": "ipython",
    "version": 3
   },
   "file_extension": ".py",
   "mimetype": "text/x-python",
   "name": "python",
   "nbconvert_exporter": "python",
   "pygments_lexer": "ipython3",
   "version": "3.5.2"
  }
 },
 "nbformat": 4,
 "nbformat_minor": 2
}
