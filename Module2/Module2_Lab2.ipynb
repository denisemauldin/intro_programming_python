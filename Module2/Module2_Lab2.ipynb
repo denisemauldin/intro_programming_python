{
 "cells": [
  {
   "cell_type": "markdown",
   "metadata": {},
   "source": [
    "# Operations Lab"
   ]
  },
  {
   "cell_type": "markdown",
   "metadata": {},
   "source": [
    "Use string concatenation and user input to write a script that does the following:\n",
    "\n",
    "0. Create a script called `module2_lab2.py`\n",
    "0. Write some code that asks the user three arbitrary questions\n",
    "0. Write some code that takes the three question answers and `print`s the answers using `string.format` in the following style:\n",
    "\n",
    "    ```bash\n",
    "    $ python3 module2_lab2.py\n",
    "    answer1 | answer2 | answer3\n",
    "    ```\n",
    "\n",
    "0. Is there a way to do this without string concatenation? Hint, look into the string function `join`"
   ]
  },
  {
   "cell_type": "code",
   "execution_count": null,
   "metadata": {
    "collapsed": true
   },
   "outputs": [],
   "source": []
  }
 ],
 "metadata": {
  "kernelspec": {
   "display_name": "Python 3",
   "language": "python",
   "name": "python3"
  },
  "language_info": {
   "codemirror_mode": {
    "name": "ipython",
    "version": 3
   },
   "file_extension": ".py",
   "mimetype": "text/x-python",
   "name": "python",
   "nbconvert_exporter": "python",
   "pygments_lexer": "ipython3",
   "version": "3.5.2"
  }
 },
 "nbformat": 4,
 "nbformat_minor": 2
}
