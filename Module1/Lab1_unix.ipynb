{
 "cells": [
  {
   "cell_type": "markdown",
   "metadata": {
    "deletable": true,
    "editable": true
   },
   "source": [
    "# Unix Basics\n",
    "\n",
    "The following exercise is designed to help you practice the unix commands that you'll need to work with python and many other programming languages. \n",
    "\n",
    "Try the following exercise on your own, or in a group; whatever way you work best. \n",
    "\n",
    "It's important that you get these basic operations down, so make sure to let us know if you have any questions. "
   ]
  },
  {
   "cell_type": "markdown",
   "metadata": {
    "collapsed": true,
    "deletable": true,
    "editable": true
   },
   "source": [
    "1.  Create a directory called \"Mod1_Lab1\"\n",
    "2.  Change into your newly created directory\n",
    "- Get the following file into your Mod1_Lab1 directory (download, copy and paste, whatever is easy): http://indeedeng.github.io/imhotep/files/nasa_19950801.tsv\n",
    "- Count the number of lines in the file\n",
    "- Look at the first few lines in the file\n",
    "- What command would you use to pull out the 3rd column of the file? \n",
    "- What command would you use to view the first five lines of the 5th column? "
   ]
  },
  {
   "cell_type": "markdown",
   "metadata": {},
   "source": [
    "** Hint: ** use the commands outlined [here](https://github.com/summerela/intro_programming_python/blob/master/Module1/unix_commands.txt)"
   ]
  }
 ],
 "metadata": {
  "kernelspec": {
   "display_name": "Python 3",
   "language": "python",
   "name": "python3"
  },
  "language_info": {
   "codemirror_mode": {
    "name": "ipython",
    "version": 3
   },
   "file_extension": ".py",
   "mimetype": "text/x-python",
   "name": "python",
   "nbconvert_exporter": "python",
   "pygments_lexer": "ipython3",
   "version": "3.5.2"
  }
 },
 "nbformat": 4,
 "nbformat_minor": 2
}
