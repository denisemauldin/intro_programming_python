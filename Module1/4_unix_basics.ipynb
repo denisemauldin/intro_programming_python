{
 "cells": [
  {
   "cell_type": "markdown",
   "metadata": {
    "collapsed": true,
    "deletable": true,
    "editable": true
   },
   "source": [
    "# Command Line Basics"
   ]
  },
  {
   "cell_type": "markdown",
   "metadata": {
    "deletable": true,
    "editable": true
   },
   "source": [
    "## Accessing the command line\n",
    "\n",
    "<img src=\"/pics/command_line.jpg\">\n",
    "\n",
    "#### Mac\n",
    "- Hit command + spacebar\n",
    "- Search for \"terminal\"\n",
    "\n",
    "#### Windows\n",
    "- Click the Windows or Start icon\n",
    "- In the Programs list, open the Git folder\n",
    "- Click the option for Git Bash (not the Git GUI... that's horrid)"
   ]
  },
  {
   "cell_type": "markdown",
   "metadata": {
    "deletable": true,
    "editable": true
   },
   "source": [
    "## Basic Navigation\n",
    "Although it might take a minute to get used to, learning some basics of a Unix/Linux environment is necessary for most working enviroments, and will actually make life easier for you in the long run. "
   ]
  },
  {
   "cell_type": "markdown",
   "metadata": {
    "deletable": true,
    "editable": true
   },
   "source": [
    "#### What directory am I in? \n",
    "pwd = Print working (current) directory"
   ]
  },
  {
   "cell_type": "code",
   "execution_count": 4,
   "metadata": {
    "collapsed": false,
    "deletable": true,
    "editable": true
   },
   "outputs": [
    {
     "data": {
      "text/plain": [
       "'/Users/selasady/intro_programming_python/Module1'"
      ]
     },
     "execution_count": 4,
     "metadata": {},
     "output_type": "execute_result"
    }
   ],
   "source": [
    "%pwd"
   ]
  },
  {
   "cell_type": "markdown",
   "metadata": {
    "deletable": true,
    "editable": true
   },
   "source": [
    "#### Change Directory\n",
    "cd = change directory"
   ]
  },
  {
   "cell_type": "code",
   "execution_count": 5,
   "metadata": {
    "collapsed": false,
    "deletable": true,
    "editable": true
   },
   "outputs": [
    {
     "name": "stdout",
     "output_type": "stream",
     "text": [
      "/Users/selasady\n"
     ]
    }
   ],
   "source": [
    "%cd /path/to/dir"
   ]
  },
  {
   "cell_type": "markdown",
   "metadata": {
    "deletable": true,
    "editable": true
   },
   "source": [
    "## File Paths\n",
    "Similar to a file path in windows, each subfolder is separated by a \"/\": \n",
    "- /this/folder/here\n",
    "- /that/folder/there\n",
    "- /home/Users/my_folder/my_file.txt"
   ]
  },
  {
   "cell_type": "markdown",
   "metadata": {
    "deletable": true,
    "editable": true
   },
   "source": [
    "### Shorthand for \"start from the directory I'm in\""
   ]
  },
  {
   "cell_type": "code",
   "execution_count": 19,
   "metadata": {
    "collapsed": false,
    "deletable": true,
    "editable": true
   },
   "outputs": [
    {
     "name": "stdout",
     "output_type": "stream",
     "text": [
      "/Users/selasady\n"
     ]
    }
   ],
   "source": [
    "% cd ./"
   ]
  },
  {
   "cell_type": "markdown",
   "metadata": {
    "deletable": true,
    "editable": true
   },
   "source": [
    "#### Go up a directory"
   ]
  },
  {
   "cell_type": "code",
   "execution_count": 2,
   "metadata": {
    "collapsed": false,
    "deletable": true,
    "editable": true
   },
   "outputs": [
    {
     "name": "stdout",
     "output_type": "stream",
     "text": [
      "/Users\n"
     ]
    }
   ],
   "source": [
    "%cd ../"
   ]
  },
  {
   "cell_type": "markdown",
   "metadata": {
    "deletable": true,
    "editable": true
   },
   "source": [
    "#### Go up two directories"
   ]
  },
  {
   "cell_type": "code",
   "execution_count": 1,
   "metadata": {
    "collapsed": false,
    "deletable": true,
    "editable": true
   },
   "outputs": [
    {
     "name": "stdout",
     "output_type": "stream",
     "text": [
      "/Users/selasady\n"
     ]
    }
   ],
   "source": [
    "%cd ../../"
   ]
  },
  {
   "cell_type": "markdown",
   "metadata": {
    "deletable": true,
    "editable": true
   },
   "source": [
    "#### Go to your home directory"
   ]
  },
  {
   "cell_type": "code",
   "execution_count": 7,
   "metadata": {
    "collapsed": false,
    "deletable": true,
    "editable": true
   },
   "outputs": [
    {
     "name": "stdout",
     "output_type": "stream",
     "text": [
      "/Users/selasady\n"
     ]
    }
   ],
   "source": [
    "%cd"
   ]
  },
  {
   "cell_type": "code",
   "execution_count": 3,
   "metadata": {
    "collapsed": false,
    "deletable": true,
    "editable": true
   },
   "outputs": [
    {
     "name": "stdout",
     "output_type": "stream",
     "text": [
      "/Users/selasady\n"
     ]
    }
   ],
   "source": [
    "%cd ~"
   ]
  },
  {
   "cell_type": "markdown",
   "metadata": {
    "deletable": true,
    "editable": true
   },
   "source": [
    "## Directory Operations"
   ]
  },
  {
   "cell_type": "markdown",
   "metadata": {
    "deletable": true,
    "editable": true
   },
   "source": [
    "### Create a directory"
   ]
  },
  {
   "cell_type": "code",
   "execution_count": 8,
   "metadata": {
    "collapsed": true,
    "deletable": true,
    "editable": true
   },
   "outputs": [],
   "source": [
    "%mkdir testing"
   ]
  },
  {
   "cell_type": "markdown",
   "metadata": {
    "deletable": true,
    "editable": true
   },
   "source": [
    "### What's in this directory? "
   ]
  },
  {
   "cell_type": "code",
   "execution_count": 12,
   "metadata": {
    "collapsed": false,
    "deletable": true,
    "editable": true
   },
   "outputs": [
    {
     "name": "stdout",
     "output_type": "stream",
     "text": [
      "\u001b[34mApplications\u001b[m\u001b[m/             \u001b[34mPublic\u001b[m\u001b[m/                   metadata.txt\r\n",
      "\u001b[34mDesktop\u001b[m\u001b[m/                  \u001b[34mPycharmProjects\u001b[m\u001b[m/          \u001b[34mnotch1\u001b[m\u001b[m/\r\n",
      "\u001b[34mDocuments\u001b[m\u001b[m/                \u001b[34mSlack.app\u001b[m\u001b[m/                \u001b[34mpy2env\u001b[m\u001b[m/\r\n",
      "\u001b[34mDownloads\u001b[m\u001b[m/                \u001b[34mVirtualBox VMs\u001b[m\u001b[m/           \u001b[34mpy3env\u001b[m\u001b[m/\r\n",
      "\u001b[34mLibrary\u001b[m\u001b[m/                  \u001b[34mbuildtools\u001b[m\u001b[m/               \u001b[34mqc_viz\u001b[m\u001b[m/\r\n",
      "\u001b[34mMovies\u001b[m\u001b[m/                   \u001b[34mdeseq_pipeline\u001b[m\u001b[m/           \u001b[34mstamlims\u001b[m\u001b[m/\r\n",
      "\u001b[34mMusic\u001b[m\u001b[m/                    \u001b[34mintro_programming_python\u001b[m\u001b[m/ \u001b[34mstamlims_old\u001b[m\u001b[m/\r\n",
      "\u001b[34mPictures\u001b[m\u001b[m/                 lims_20141210.sql.gz      \u001b[34mtesting\u001b[m\u001b[m/\r\n",
      "\u001b[34mProjects\u001b[m\u001b[m/                 \u001b[34mlog\u001b[m\u001b[m/\r\n"
     ]
    }
   ],
   "source": [
    "%ls "
   ]
  },
  {
   "cell_type": "code",
   "execution_count": 14,
   "metadata": {
    "collapsed": false,
    "deletable": true,
    "editable": true
   },
   "outputs": [
    {
     "name": "stdout",
     "output_type": "stream",
     "text": [
      "total 119080\r\n",
      "drwx------   3 selasady  staff   102B Sep 12 13:41 Applications/\r\n",
      "drwx------+  5 selasady  staff   170B Jan 10 15:08 Desktop/\r\n",
      "drwx------@ 23 selasady  staff   782B Jan 10 15:12 Documents/\r\n",
      "drwx------+ 12 selasady  staff   408B Jan 10 15:12 Downloads/\r\n",
      "drwx------@ 57 selasady  staff   1.9K Nov 12 02:00 Library/\r\n",
      "drwx------+  3 selasady  staff   102B Sep 12 10:05 Movies/\r\n",
      "drwx------+  4 selasady  staff   136B Sep 27 11:57 Music/\r\n",
      "drwx------+  4 selasady  staff   136B Jan  5 21:28 Pictures/\r\n",
      "drwxr-xr-x   3 selasady  staff   102B Dec 22 16:27 Projects/\r\n"
     ]
    }
   ],
   "source": [
    "% ls -lh "
   ]
  },
  {
   "cell_type": "code",
   "execution_count": 15,
   "metadata": {
    "collapsed": false,
    "deletable": true,
    "editable": true
   },
   "outputs": [
    {
     "name": "stdout",
     "output_type": "stream",
     "text": [
      "total 119264\r\n",
      "drwxr-xr-x+  69 selasady  staff   2.3K Jan 10 15:47 ./\r\n",
      "drwxr-xr-x    8 root      admin   272B Sep 13 17:21 ../\r\n",
      "-r--------    1 selasady  staff     7B Sep 12 10:05 .CFUserTextEncoding\r\n",
      "-rw-r--r--@   1 selasady  staff    16K Jan 10 15:11 .DS_Store\r\n",
      "drwx------    3 selasady  staff   102B Sep 13 17:18 .MacOSX/\r\n",
      "drwxr-xr-x    3 selasady  staff   102B Sep 22 18:21 .RSA/\r\n",
      "-rw-------    1 selasady  staff    20B Sep 19 18:50 .Rhistory\r\n",
      "drwx------    4 selasady  staff   136B Jan 10 15:12 .Trash/\r\n",
      "-rw-------    1 selasady  staff     0B Oct 31 14:58 .Xauthority\r\n"
     ]
    }
   ],
   "source": [
    "% ls -lha "
   ]
  },
  {
   "cell_type": "markdown",
   "metadata": {
    "deletable": true,
    "editable": true
   },
   "source": [
    "### Delete (remove) a directory"
   ]
  },
  {
   "cell_type": "code",
   "execution_count": 17,
   "metadata": {
    "collapsed": false,
    "deletable": true,
    "editable": true
   },
   "outputs": [],
   "source": [
    "% rmdir testing"
   ]
  },
  {
   "cell_type": "code",
   "execution_count": 18,
   "metadata": {
    "collapsed": true,
    "deletable": true,
    "editable": true
   },
   "outputs": [],
   "source": [
    "% rm -rf dir_with_stuf"
   ]
  },
  {
   "cell_type": "markdown",
   "metadata": {
    "deletable": true,
    "editable": true
   },
   "source": [
    "## File Operations \n",
    "To make your Unix life easier, use the following file naming conventions: \n",
    "\n",
    "#### Naming Files\n",
    "- Never use spaces in your file names, instead use: \n",
    "    - Camel case: MyFile\n",
    "    - Underscore: my_file\n",
    "- Use meaningful names\n",
    "    - myFile is a terrible name, my bad!\n",
    "    - hw1_test1 is much better\n",
    "    \n",
    "#### File Extensions\n",
    "In unix, you can give a file any extension you want: \n",
    "- hw1_test1.madeUpExtension. \n",
    "\n",
    "But it's better to keep in mind what types of programs will be using the file: \n",
    "    - text files = .txt\n",
    "    - tab separated files = .tsv\n",
    "    - comma separated files = .csv\n",
    "    - python files = .py"
   ]
  },
  {
   "cell_type": "markdown",
   "metadata": {
    "deletable": true,
    "editable": true
   },
   "source": [
    "#### Read file contents"
   ]
  },
  {
   "cell_type": "code",
   "execution_count": 20,
   "metadata": {
    "collapsed": false,
    "deletable": true,
    "editable": true
   },
   "outputs": [
    {
     "name": "stdout",
     "output_type": "stream",
     "text": [
      "item1\t20\r\n",
      "item2\t3423\r\n",
      "item3\t55666\r\n",
      "item4 \t12"
     ]
    }
   ],
   "source": [
    "% cat ./intro_programming_python/Module1/test.tsv"
   ]
  },
  {
   "cell_type": "markdown",
   "metadata": {
    "deletable": true,
    "editable": true
   },
   "source": [
    "#### Looking at the beginning of a file"
   ]
  },
  {
   "cell_type": "code",
   "execution_count": 22,
   "metadata": {
    "collapsed": false,
    "deletable": true,
    "editable": true
   },
   "outputs": [
    {
     "name": "stdout",
     "output_type": "stream",
     "text": [
      "item1\t20\r\n",
      "item2\t3423\r\n",
      "item3\t55666\r\n",
      "item4 \t12"
     ]
    }
   ],
   "source": [
    "% head ./intro_programming_python/Module1/test.tsv"
   ]
  },
  {
   "cell_type": "markdown",
   "metadata": {
    "deletable": true,
    "editable": true
   },
   "source": [
    "#### Looking at the end of a file"
   ]
  },
  {
   "cell_type": "code",
   "execution_count": 23,
   "metadata": {
    "collapsed": false,
    "deletable": true,
    "editable": true
   },
   "outputs": [
    {
     "name": "stdout",
     "output_type": "stream",
     "text": [
      "item1\t20\r\n",
      "item2\t3423\r\n",
      "item3\t55666\r\n",
      "item4 \t12"
     ]
    }
   ],
   "source": [
    "% tail ./intro_programming_python/Module1/test.tsv"
   ]
  },
  {
   "cell_type": "markdown",
   "metadata": {
    "deletable": true,
    "editable": true
   },
   "source": [
    "#### Creating a file"
   ]
  },
  {
   "cell_type": "code",
   "execution_count": null,
   "metadata": {
    "collapsed": true,
    "deletable": true,
    "editable": true
   },
   "outputs": [],
   "source": [
    "% touch another_test.txt"
   ]
  },
  {
   "cell_type": "markdown",
   "metadata": {
    "deletable": true,
    "editable": true
   },
   "source": [
    "#### Moving a file\n",
    "\n",
    "Use the following convention to move a file from one place to another. The original file will no longer be there: "
   ]
  },
  {
   "cell_type": "markdown",
   "metadata": {
    "deletable": true,
    "editable": true
   },
   "source": [
    "    mv original_file_path/original_file_name new_path/new_name"
   ]
  },
  {
   "cell_type": "code",
   "execution_count": null,
   "metadata": {
    "collapsed": true,
    "deletable": true,
    "editable": true
   },
   "outputs": [],
   "source": [
    "% mv ./intro_programming_python/Module1/test.tsv ../"
   ]
  },
  {
   "cell_type": "markdown",
   "metadata": {
    "deletable": true,
    "editable": true
   },
   "source": [
    "#### Copying a file\n",
    "Use the following convention to copy a file from one place to another, leaving the original file in place: "
   ]
  },
  {
   "cell_type": "markdown",
   "metadata": {
    "deletable": true,
    "editable": true
   },
   "source": [
    "    cp original_path/original_file_name new_path/new_file_name"
   ]
  },
  {
   "cell_type": "code",
   "execution_count": null,
   "metadata": {
    "collapsed": true,
    "deletable": true,
    "editable": true
   },
   "outputs": [],
   "source": [
    "% cp ./intro_programming_python/Module1/test.tsv ../new_file.tsv"
   ]
  },
  {
   "cell_type": "markdown",
   "metadata": {
    "deletable": true,
    "editable": true
   },
   "source": [
    "## Helpful Operations"
   ]
  },
  {
   "cell_type": "markdown",
   "metadata": {
    "deletable": true,
    "editable": true
   },
   "source": [
    "#### Count lines in a file"
   ]
  },
  {
   "cell_type": "code",
   "execution_count": null,
   "metadata": {
    "collapsed": false,
    "deletable": true,
    "editable": true
   },
   "outputs": [],
   "source": [
    "% wc -l ./intro_programming_python/Module1/test.tsv"
   ]
  },
  {
   "cell_type": "markdown",
   "metadata": {
    "deletable": true,
    "editable": true
   },
   "source": [
    "#### Piping Commands and cutting a column from a text file"
   ]
  },
  {
   "cell_type": "code",
   "execution_count": 30,
   "metadata": {
    "collapsed": false,
    "deletable": true,
    "editable": true
   },
   "outputs": [
    {
     "name": "stdout",
     "output_type": "stream",
     "text": [
      "item1\r\n",
      "item2\r\n",
      "item3\r\n",
      "item4 \r\n"
     ]
    }
   ],
   "source": [
    "% cat ./intro_programming_python/Module1/test.tsv | cut -f1"
   ]
  },
  {
   "cell_type": "code",
   "execution_count": 31,
   "metadata": {
    "collapsed": false,
    "deletable": true,
    "editable": true
   },
   "outputs": [
    {
     "name": "stdout",
     "output_type": "stream",
     "text": [
      "20\r\n",
      "3423\r\n",
      "55666\r\n",
      "12\r\n"
     ]
    }
   ],
   "source": [
    "% cat ./intro_programming_python/Module1/test.tsv | cut -f2"
   ]
  },
  {
   "cell_type": "markdown",
   "metadata": {
    "deletable": true,
    "editable": true
   },
   "source": [
    "#### Download a file"
   ]
  },
  {
   "cell_type": "code",
   "execution_count": null,
   "metadata": {
    "collapsed": false,
    "deletable": true,
    "editable": true
   },
   "outputs": [],
   "source": [
    "% wget http://myurl.com/myfile.txt"
   ]
  },
  {
   "cell_type": "markdown",
   "metadata": {
    "deletable": true,
    "editable": true
   },
   "source": [
    "## Where to learn more\n",
    "### Basic Unix\n",
    "https://www.tutorialspoint.com/unix/\n",
    "### Bash Keyboard Shortcuts\n",
    "http://www.skorks.com/2009/09/bash-shortcuts-for-maximum-productivity/"
   ]
  }
 ],
 "metadata": {
  "kernelspec": {
   "display_name": "Python 3",
   "language": "python",
   "name": "python3"
  },
  "language_info": {
   "codemirror_mode": {
    "name": "ipython",
    "version": 3
   },
   "file_extension": ".py",
   "mimetype": "text/x-python",
   "name": "python",
   "nbconvert_exporter": "python",
   "pygments_lexer": "ipython3",
   "version": "3.5.2"
  }
 },
 "nbformat": 4,
 "nbformat_minor": 2
}
