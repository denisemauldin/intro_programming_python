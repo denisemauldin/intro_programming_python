{
 "cells": [
  {
   "cell_type": "markdown",
   "metadata": {
    "deletable": true,
    "editable": true
   },
   "source": [
    "# Running Python"
   ]
  },
  {
   "cell_type": "markdown",
   "metadata": {
    "deletable": true,
    "editable": true
   },
   "source": [
    "## Command Line Interactive Python\n",
    "If you just want to run a few commands without creating a script, you can run python directly from the command line. Type the following in your browser (lines beginnning with a hash are used only to make comments and are not run). \n",
    "\n",
    "From the terminal prompt or git prompt: \n",
    "![run_python](./pics/run_python.jpg)"
   ]
  },
  {
   "cell_type": "markdown",
   "metadata": {
    "deletable": true,
    "editable": true
   },
   "source": [
    "## Basic Python Script Format"
   ]
  },
  {
   "cell_type": "code",
   "execution_count": 3,
   "metadata": {
    "collapsed": false,
    "deletable": true,
    "editable": true
   },
   "outputs": [
    {
     "name": "stdout",
     "output_type": "stream",
     "text": [
      "Hello there, world!\n"
     ]
    }
   ],
   "source": [
    "# anything that starts with a pound\n",
    "# is called a comment\n",
    "# and is ignored by the intpreter\n",
    "# you can say whatever you want here\n",
    "# foo baz bar bippity boppity boo\n",
    "\n",
    "# the following line is called a shebang\n",
    "# it tells your OS what language to use\n",
    "# every script should start with this\n",
    "\n",
    "#!/bin/env python\n",
    "\n",
    "#  import your modules here\n",
    "import os\n",
    "\n",
    "# do things\n",
    "print(\"Hello there, world!\")\n",
    "\n",
    "# quit and close anything you opened\n",
    "quit()\n"
   ]
  },
  {
   "cell_type": "markdown",
   "metadata": {
    "deletable": true,
    "editable": true
   },
   "source": [
    "## Running a script from the command Line"
   ]
  },
  {
   "cell_type": "code",
   "execution_count": null,
   "metadata": {
    "collapsed": true,
    "deletable": true,
    "editable": true
   },
   "outputs": [],
   "source": [
    "python my_script.py"
   ]
  }
 ],
 "metadata": {
  "kernelspec": {
   "display_name": "Python 3",
   "language": "python",
   "name": "python3"
  },
  "language_info": {
   "codemirror_mode": {
    "name": "ipython",
    "version": 3
   },
   "file_extension": ".py",
   "mimetype": "text/x-python",
   "name": "python",
   "nbconvert_exporter": "python",
   "pygments_lexer": "ipython3",
   "version": "3.5.2"
  }
 },
 "nbformat": 4,
 "nbformat_minor": 2
}
