{
 "cells": [
  {
   "cell_type": "markdown",
   "metadata": {
    "deletable": true,
    "editable": true
   },
   "source": [
    "# Programming Basics"
   ]
  },
  {
   "cell_type": "markdown",
   "metadata": {
    "deletable": true,
    "editable": true
   },
   "source": [
    "## Variables"
   ]
  },
  {
   "cell_type": "markdown",
   "metadata": {
    "deletable": true,
    "editable": true
   },
   "source": [
    "You can create a name to store whatever information you need: \n",
    "\n",
    "- user_age = 2\n",
    "- avatar_color = \"green\"\n",
    "- unknown_variable = \"\"\n",
    "\n",
    "Use the \"=\" sign to assign a value to a variable. \n",
    "    "
   ]
  },
  {
   "cell_type": "markdown",
   "metadata": {
    "deletable": true,
    "editable": true
   },
   "source": [
    "### Comparison and Assignment\n",
    "\n",
    "- Using on \"=\" allows us to assign a value to a variable\n",
    "- However, if we want to ask if var1 is equal to var2, we use \"==\" to compare"
   ]
  },
  {
   "cell_type": "code",
   "execution_count": 1,
   "metadata": {
    "collapsed": false,
    "deletable": true,
    "editable": true
   },
   "outputs": [
    {
     "data": {
      "text/plain": [
       "False"
      ]
     },
     "execution_count": 1,
     "metadata": {},
     "output_type": "execute_result"
    }
   ],
   "source": [
    "var1 = 5\n",
    "var2 = 12\n",
    "\n",
    "var1 == var2"
   ]
  },
  {
   "cell_type": "code",
   "execution_count": 2,
   "metadata": {
    "collapsed": false,
    "deletable": true,
    "editable": true
   },
   "outputs": [
    {
     "name": "stdout",
     "output_type": "stream",
     "text": [
      "5\n",
      "12\n"
     ]
    }
   ],
   "source": [
    "var1 = 5\n",
    "var2 = 12\n",
    "\n",
    "print(var1)\n",
    "print(var2)"
   ]
  },
  {
   "cell_type": "code",
   "execution_count": 3,
   "metadata": {
    "collapsed": false,
    "deletable": true,
    "editable": true
   },
   "outputs": [
    {
     "name": "stdout",
     "output_type": "stream",
     "text": [
      "12\n"
     ]
    }
   ],
   "source": [
    "var1 = var2\n",
    "\n",
    "print(var1)"
   ]
  },
  {
   "cell_type": "markdown",
   "metadata": {
    "deletable": true,
    "editable": true
   },
   "source": [
    "### Multiple Assignment\n",
    "In Python, you can assign multiple values to multiple variables at one time: "
   ]
  },
  {
   "cell_type": "code",
   "execution_count": 23,
   "metadata": {
    "collapsed": false,
    "deletable": true,
    "editable": true
   },
   "outputs": [
    {
     "name": "stdout",
     "output_type": "stream",
     "text": [
      "letter_a\n",
      "letter_b\n",
      "42\n"
     ]
    }
   ],
   "source": [
    "a, b, c = \"letter_a\", \"letter_b\", 42\n",
    "\n",
    "print(a)\n",
    "print(b)\n",
    "print(c)"
   ]
  },
  {
   "cell_type": "markdown",
   "metadata": {
    "deletable": true,
    "editable": true
   },
   "source": [
    "## Comments"
   ]
  },
  {
   "cell_type": "markdown",
   "metadata": {
    "deletable": true,
    "editable": true
   },
   "source": [
    "Comments are used to add documentation to your program. It's very important to leave yourself, and anyone else that has to use your script, notes on how to use the program and, in complex cases, how you did things. "
   ]
  },
  {
   "cell_type": "markdown",
   "metadata": {
    "deletable": true,
    "editable": true
   },
   "source": [
    "### In-line comments\n",
    "Use in-line comments to add documentation to explain the steps you took. A few good places to use in-line comments are: \n",
    "- describe what a function does\n",
    "- explain what a variable is\n",
    "- detail mathematical operations"
   ]
  },
  {
   "cell_type": "code",
   "execution_count": 4,
   "metadata": {
    "collapsed": true,
    "deletable": true,
    "editable": true
   },
   "outputs": [],
   "source": [
    "# this function takes to variables and adds them\n",
    "def add_vars(var1, var2):\n",
    "    new_var = var1 + var2\n",
    "    return(new_var)\n",
    "\n",
    "# your_mom stores the name of the user's mother\n",
    "your_mom = \"Helen Keller\"\n",
    "\n",
    "# multiply input_var by 2\n",
    "def times_two(input_var):\n",
    "    new_var = input_var * 2\n",
    "    return(new_var)"
   ]
  },
  {
   "cell_type": "markdown",
   "metadata": {
    "deletable": true,
    "editable": true
   },
   "source": [
    "### Docstrings\n",
    "Docstrings are used to add instructions and explanation in longer blocks of text, often found at the beginning of a script. \n",
    "\n",
    "Docstrings should include such things as: \n",
    "- Required software, packages and versions used\n",
    "- Explanation on how to use the program\n",
    "- Assumptions made (such as pi was rounded to 3.14)"
   ]
  },
  {
   "cell_type": "code",
   "execution_count": 6,
   "metadata": {
    "collapsed": false,
    "deletable": true,
    "editable": true
   },
   "outputs": [
    {
     "name": "stdout",
     "output_type": "stream",
     "text": [
      "To use docstrings, start and end a block of text with three single quote marks.\n"
     ]
    }
   ],
   "source": [
    "'''\n",
    "This script was created to demonstrate how to use docstrings. \n",
    "\n",
    "Software used: \n",
    "python version 3.51\n",
    "\n",
    "Assumptions: \n",
    "You are paying attention in class\n",
    "'''\n",
    "\n",
    "print(\"To use docstrings, start and end a block of text with three single quote marks.\")"
   ]
  },
  {
   "cell_type": "markdown",
   "metadata": {
    "deletable": true,
    "editable": true
   },
   "source": [
    "## Statements \n",
    "In programming, statements are essentially directions given to the intepreter (aka python). For example, if you want python to print something out to the screen, you would issue a print stement telling it what to print: "
   ]
  },
  {
   "cell_type": "markdown",
   "metadata": {
    "deletable": true,
    "editable": true
   },
   "source": [
    "### Print"
   ]
  },
  {
   "cell_type": "code",
   "execution_count": 7,
   "metadata": {
    "collapsed": false,
    "deletable": true,
    "editable": true
   },
   "outputs": [
    {
     "name": "stdout",
     "output_type": "stream",
     "text": [
      "This is a print statement!\n"
     ]
    }
   ],
   "source": [
    "print(\"This is the result of a print statement!\")"
   ]
  },
  {
   "cell_type": "code",
   "execution_count": 8,
   "metadata": {
    "collapsed": false,
    "deletable": true,
    "editable": true
   },
   "outputs": [
    {
     "name": "stdout",
     "output_type": "stream",
     "text": [
      "This is also the result of a print statment.\n"
     ]
    }
   ],
   "source": [
    "my_statement = \"This is also the result of a print statment.\"\n",
    "print(my_statement)"
   ]
  },
  {
   "cell_type": "markdown",
   "metadata": {
    "deletable": true,
    "editable": true
   },
   "source": [
    "### Assigment"
   ]
  },
  {
   "cell_type": "markdown",
   "metadata": {
    "deletable": true,
    "editable": true
   },
   "source": [
    "You've already seen an assigment statement above: "
   ]
  },
  {
   "cell_type": "code",
   "execution_count": 10,
   "metadata": {
    "collapsed": false,
    "deletable": true,
    "editable": true
   },
   "outputs": [
    {
     "name": "stdout",
     "output_type": "stream",
     "text": [
      "tall\n"
     ]
    }
   ],
   "source": [
    "greg = \"tall\"\n",
    "print(greg)"
   ]
  },
  {
   "cell_type": "markdown",
   "metadata": {
    "deletable": true,
    "editable": true
   },
   "source": [
    "### Assert\n",
    "Assert statements are often used for debugging and to ensure that your function/statement/script is doing what you think it's doing. "
   ]
  },
  {
   "cell_type": "code",
   "execution_count": 18,
   "metadata": {
    "collapsed": false,
    "deletable": true,
    "editable": true
   },
   "outputs": [
    {
     "ename": "AssertionError",
     "evalue": "",
     "output_type": "error",
     "traceback": [
      "\u001b[0;31m---------------------------------------------------------------------------\u001b[0m",
      "\u001b[0;31mAssertionError\u001b[0m                            Traceback (most recent call last)",
      "\u001b[0;32m<ipython-input-18-585b12b4fee8>\u001b[0m in \u001b[0;36m<module>\u001b[0;34m()\u001b[0m\n\u001b[1;32m      1\u001b[0m \u001b[0mtest_var\u001b[0m \u001b[0;34m=\u001b[0m \u001b[0;36m5\u001b[0m\u001b[0;34m\u001b[0m\u001b[0m\n\u001b[0;32m----> 2\u001b[0;31m \u001b[0;32massert\u001b[0m \u001b[0mtest_var\u001b[0m \u001b[0;34m==\u001b[0m \u001b[0;36m6\u001b[0m\u001b[0;34m\u001b[0m\u001b[0m\n\u001b[0m",
      "\u001b[0;31mAssertionError\u001b[0m: "
     ]
    }
   ],
   "source": [
    "test_var = 5\n",
    "assert test_var == 6"
   ]
  }
 ],
 "metadata": {
  "kernelspec": {
   "display_name": "Python 3",
   "language": "python",
   "name": "python3"
  },
  "language_info": {
   "codemirror_mode": {
    "name": "ipython",
    "version": 3
   },
   "file_extension": ".py",
   "mimetype": "text/x-python",
   "name": "python",
   "nbconvert_exporter": "python",
   "pygments_lexer": "ipython3",
   "version": "3.5.2"
  }
 },
 "nbformat": 4,
 "nbformat_minor": 2
}
