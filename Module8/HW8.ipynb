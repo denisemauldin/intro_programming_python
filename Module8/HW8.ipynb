{
 "cells": [
  {
   "cell_type": "markdown",
   "metadata": {
    "deletable": true,
    "editable": true
   },
   "source": [
    "# Homework 8"
   ]
  },
  {
   "cell_type": "markdown",
   "metadata": {
    "deletable": true,
    "editable": true
   },
   "source": [
    "#### Fill out the following information (each category below should be on a separate line): \n",
    "Name:   Summer  \n",
    "Date Submitted: March 2nd, 2017"
   ]
  },
  {
   "cell_type": "markdown",
   "metadata": {
    "deletable": true,
    "editable": true
   },
   "source": [
    "#### Use the following data set to answer the questions for your homework:"
   ]
  },
  {
   "cell_type": "code",
   "execution_count": 1,
   "metadata": {
    "collapsed": true,
    "deletable": true,
    "editable": true
   },
   "outputs": [],
   "source": [
    "import pandas as pd\n",
    "import matplotlib.pyplot as plt\n",
    "\n",
    "# run plots in the notebook\n",
    "%matplotlib inline\n",
    "\n",
    "url = \"http://pbpython.com/extras/sample-salesv2.csv\"\n",
    "\n",
    "sales = pd.read_csv(url)"
   ]
  },
  {
   "cell_type": "markdown",
   "metadata": {
    "deletable": true,
    "editable": true
   },
   "source": [
    "#### changing column names"
   ]
  },
  {
   "cell_type": "code",
   "execution_count": 7,
   "metadata": {
    "collapsed": true,
    "deletable": true,
    "editable": true
   },
   "outputs": [],
   "source": [
    "sales.columns = ['acct_num', 'name', 'sku', 'category', 'quantity', 'unit_price', 'ext_price', 'date']"
   ]
  },
  {
   "cell_type": "code",
   "execution_count": 9,
   "metadata": {
    "collapsed": false,
    "deletable": true,
    "editable": true
   },
   "outputs": [
    {
     "data": {
      "text/html": [
       "<div>\n",
       "<table border=\"1\" class=\"dataframe\">\n",
       "  <thead>\n",
       "    <tr style=\"text-align: right;\">\n",
       "      <th></th>\n",
       "      <th>acct_num</th>\n",
       "      <th>name</th>\n",
       "      <th>sku</th>\n",
       "      <th>category</th>\n",
       "      <th>quantity</th>\n",
       "      <th>unit_price</th>\n",
       "      <th>ext_price</th>\n",
       "      <th>date</th>\n",
       "    </tr>\n",
       "  </thead>\n",
       "  <tbody>\n",
       "    <tr>\n",
       "      <th>0</th>\n",
       "      <td>296809</td>\n",
       "      <td>Carroll PLC</td>\n",
       "      <td>QN-82852</td>\n",
       "      <td>Belt</td>\n",
       "      <td>13</td>\n",
       "      <td>44.48</td>\n",
       "      <td>578.24</td>\n",
       "      <td>2014-09-27 07:13:03</td>\n",
       "    </tr>\n",
       "    <tr>\n",
       "      <th>1</th>\n",
       "      <td>98022</td>\n",
       "      <td>Heidenreich-Bosco</td>\n",
       "      <td>MJ-21460</td>\n",
       "      <td>Shoes</td>\n",
       "      <td>19</td>\n",
       "      <td>53.62</td>\n",
       "      <td>1018.78</td>\n",
       "      <td>2014-07-29 02:10:44</td>\n",
       "    </tr>\n",
       "    <tr>\n",
       "      <th>2</th>\n",
       "      <td>563905</td>\n",
       "      <td>Kerluke, Reilly and Bechtelar</td>\n",
       "      <td>AS-93055</td>\n",
       "      <td>Shirt</td>\n",
       "      <td>12</td>\n",
       "      <td>24.16</td>\n",
       "      <td>289.92</td>\n",
       "      <td>2014-03-01 10:51:24</td>\n",
       "    </tr>\n",
       "    <tr>\n",
       "      <th>3</th>\n",
       "      <td>93356</td>\n",
       "      <td>Waters-Walker</td>\n",
       "      <td>AS-93055</td>\n",
       "      <td>Shirt</td>\n",
       "      <td>5</td>\n",
       "      <td>82.68</td>\n",
       "      <td>413.40</td>\n",
       "      <td>2013-11-17 20:41:11</td>\n",
       "    </tr>\n",
       "    <tr>\n",
       "      <th>4</th>\n",
       "      <td>659366</td>\n",
       "      <td>Waelchi-Fahey</td>\n",
       "      <td>AS-93055</td>\n",
       "      <td>Shirt</td>\n",
       "      <td>18</td>\n",
       "      <td>99.64</td>\n",
       "      <td>1793.52</td>\n",
       "      <td>2014-01-03 08:14:27</td>\n",
       "    </tr>\n",
       "  </tbody>\n",
       "</table>\n",
       "</div>"
      ],
      "text/plain": [
       "   acct_num                           name       sku category  quantity  \\\n",
       "0    296809                    Carroll PLC  QN-82852     Belt        13   \n",
       "1     98022              Heidenreich-Bosco  MJ-21460    Shoes        19   \n",
       "2    563905  Kerluke, Reilly and Bechtelar  AS-93055    Shirt        12   \n",
       "3     93356                  Waters-Walker  AS-93055    Shirt         5   \n",
       "4    659366                  Waelchi-Fahey  AS-93055    Shirt        18   \n",
       "\n",
       "   unit_price  ext_price                 date  \n",
       "0       44.48     578.24  2014-09-27 07:13:03  \n",
       "1       53.62    1018.78  2014-07-29 02:10:44  \n",
       "2       24.16     289.92  2014-03-01 10:51:24  \n",
       "3       82.68     413.40  2013-11-17 20:41:11  \n",
       "4       99.64    1793.52  2014-01-03 08:14:27  "
      ]
     },
     "execution_count": 9,
     "metadata": {},
     "output_type": "execute_result"
    }
   ],
   "source": [
    "sales.head()"
   ]
  },
  {
   "cell_type": "markdown",
   "metadata": {
    "deletable": true,
    "editable": true
   },
   "source": [
    "#### Subset the dataframe to contain only the name, category, quantity and unit price columns"
   ]
  },
  {
   "cell_type": "code",
   "execution_count": 10,
   "metadata": {
    "collapsed": false,
    "deletable": true,
    "editable": true
   },
   "outputs": [],
   "source": [
    "subset_df = sales[['name', 'category', 'quantity', 'unit_price']]"
   ]
  },
  {
   "cell_type": "code",
   "execution_count": 11,
   "metadata": {
    "collapsed": false,
    "deletable": true,
    "editable": true
   },
   "outputs": [
    {
     "data": {
      "text/html": [
       "<div>\n",
       "<table border=\"1\" class=\"dataframe\">\n",
       "  <thead>\n",
       "    <tr style=\"text-align: right;\">\n",
       "      <th></th>\n",
       "      <th>name</th>\n",
       "      <th>category</th>\n",
       "      <th>quantity</th>\n",
       "      <th>unit_price</th>\n",
       "    </tr>\n",
       "  </thead>\n",
       "  <tbody>\n",
       "    <tr>\n",
       "      <th>0</th>\n",
       "      <td>Carroll PLC</td>\n",
       "      <td>Belt</td>\n",
       "      <td>13</td>\n",
       "      <td>44.48</td>\n",
       "    </tr>\n",
       "    <tr>\n",
       "      <th>1</th>\n",
       "      <td>Heidenreich-Bosco</td>\n",
       "      <td>Shoes</td>\n",
       "      <td>19</td>\n",
       "      <td>53.62</td>\n",
       "    </tr>\n",
       "    <tr>\n",
       "      <th>2</th>\n",
       "      <td>Kerluke, Reilly and Bechtelar</td>\n",
       "      <td>Shirt</td>\n",
       "      <td>12</td>\n",
       "      <td>24.16</td>\n",
       "    </tr>\n",
       "    <tr>\n",
       "      <th>3</th>\n",
       "      <td>Waters-Walker</td>\n",
       "      <td>Shirt</td>\n",
       "      <td>5</td>\n",
       "      <td>82.68</td>\n",
       "    </tr>\n",
       "    <tr>\n",
       "      <th>4</th>\n",
       "      <td>Waelchi-Fahey</td>\n",
       "      <td>Shirt</td>\n",
       "      <td>18</td>\n",
       "      <td>99.64</td>\n",
       "    </tr>\n",
       "  </tbody>\n",
       "</table>\n",
       "</div>"
      ],
      "text/plain": [
       "                            name category  quantity  unit_price\n",
       "0                    Carroll PLC     Belt        13       44.48\n",
       "1              Heidenreich-Bosco    Shoes        19       53.62\n",
       "2  Kerluke, Reilly and Bechtelar    Shirt        12       24.16\n",
       "3                  Waters-Walker    Shirt         5       82.68\n",
       "4                  Waelchi-Fahey    Shirt        18       99.64"
      ]
     },
     "execution_count": 11,
     "metadata": {},
     "output_type": "execute_result"
    }
   ],
   "source": [
    "subset_df.head()"
   ]
  },
  {
   "cell_type": "markdown",
   "metadata": {
    "deletable": true,
    "editable": true
   },
   "source": [
    "#### Subset the dataframe to contain only shirt sales"
   ]
  },
  {
   "cell_type": "code",
   "execution_count": 14,
   "metadata": {
    "collapsed": false,
    "deletable": true,
    "editable": true
   },
   "outputs": [],
   "source": [
    "shirt_df = subset_df[subset_df['category'] == 'Shirt']   "
   ]
  },
  {
   "cell_type": "code",
   "execution_count": 15,
   "metadata": {
    "collapsed": false,
    "deletable": true,
    "editable": true
   },
   "outputs": [
    {
     "data": {
      "text/html": [
       "<div>\n",
       "<table border=\"1\" class=\"dataframe\">\n",
       "  <thead>\n",
       "    <tr style=\"text-align: right;\">\n",
       "      <th></th>\n",
       "      <th>name</th>\n",
       "      <th>category</th>\n",
       "      <th>quantity</th>\n",
       "      <th>unit_price</th>\n",
       "    </tr>\n",
       "  </thead>\n",
       "  <tbody>\n",
       "    <tr>\n",
       "      <th>2</th>\n",
       "      <td>Kerluke, Reilly and Bechtelar</td>\n",
       "      <td>Shirt</td>\n",
       "      <td>12</td>\n",
       "      <td>24.16</td>\n",
       "    </tr>\n",
       "    <tr>\n",
       "      <th>3</th>\n",
       "      <td>Waters-Walker</td>\n",
       "      <td>Shirt</td>\n",
       "      <td>5</td>\n",
       "      <td>82.68</td>\n",
       "    </tr>\n",
       "    <tr>\n",
       "      <th>4</th>\n",
       "      <td>Waelchi-Fahey</td>\n",
       "      <td>Shirt</td>\n",
       "      <td>18</td>\n",
       "      <td>99.64</td>\n",
       "    </tr>\n",
       "    <tr>\n",
       "      <th>5</th>\n",
       "      <td>Kerluke, Reilly and Bechtelar</td>\n",
       "      <td>Shirt</td>\n",
       "      <td>17</td>\n",
       "      <td>52.82</td>\n",
       "    </tr>\n",
       "    <tr>\n",
       "      <th>9</th>\n",
       "      <td>Kerluke, Reilly and Bechtelar</td>\n",
       "      <td>Shirt</td>\n",
       "      <td>12</td>\n",
       "      <td>26.98</td>\n",
       "    </tr>\n",
       "  </tbody>\n",
       "</table>\n",
       "</div>"
      ],
      "text/plain": [
       "                            name category  quantity  unit_price\n",
       "2  Kerluke, Reilly and Bechtelar    Shirt        12       24.16\n",
       "3                  Waters-Walker    Shirt         5       82.68\n",
       "4                  Waelchi-Fahey    Shirt        18       99.64\n",
       "5  Kerluke, Reilly and Bechtelar    Shirt        17       52.82\n",
       "9  Kerluke, Reilly and Bechtelar    Shirt        12       26.98"
      ]
     },
     "execution_count": 15,
     "metadata": {},
     "output_type": "execute_result"
    }
   ],
   "source": [
    "shirt_df.head()"
   ]
  },
  {
   "cell_type": "markdown",
   "metadata": {
    "deletable": true,
    "editable": true
   },
   "source": [
    "#### Calculate the total cost per shirt sale"
   ]
  },
  {
   "cell_type": "code",
   "execution_count": 17,
   "metadata": {
    "collapsed": false,
    "deletable": true,
    "editable": true
   },
   "outputs": [
    {
     "name": "stderr",
     "output_type": "stream",
     "text": [
      "/Library/Frameworks/Python.framework/Versions/3.5/lib/python3.5/site-packages/ipykernel/__main__.py:1: SettingWithCopyWarning: \n",
      "A value is trying to be set on a copy of a slice from a DataFrame.\n",
      "Try using .loc[row_indexer,col_indexer] = value instead\n",
      "\n",
      "See the caveats in the documentation: http://pandas.pydata.org/pandas-docs/stable/indexing.html#indexing-view-versus-copy\n",
      "  if __name__ == '__main__':\n"
     ]
    }
   ],
   "source": [
    "shirt_df['total_cost'] = shirt_df.quantity * shirt_df.unit_price"
   ]
  },
  {
   "cell_type": "code",
   "execution_count": 18,
   "metadata": {
    "collapsed": false,
    "deletable": true,
    "editable": true
   },
   "outputs": [
    {
     "data": {
      "text/html": [
       "<div>\n",
       "<table border=\"1\" class=\"dataframe\">\n",
       "  <thead>\n",
       "    <tr style=\"text-align: right;\">\n",
       "      <th></th>\n",
       "      <th>name</th>\n",
       "      <th>category</th>\n",
       "      <th>quantity</th>\n",
       "      <th>unit_price</th>\n",
       "      <th>total_cost</th>\n",
       "    </tr>\n",
       "  </thead>\n",
       "  <tbody>\n",
       "    <tr>\n",
       "      <th>2</th>\n",
       "      <td>Kerluke, Reilly and Bechtelar</td>\n",
       "      <td>Shirt</td>\n",
       "      <td>12</td>\n",
       "      <td>24.16</td>\n",
       "      <td>289.92</td>\n",
       "    </tr>\n",
       "    <tr>\n",
       "      <th>3</th>\n",
       "      <td>Waters-Walker</td>\n",
       "      <td>Shirt</td>\n",
       "      <td>5</td>\n",
       "      <td>82.68</td>\n",
       "      <td>413.40</td>\n",
       "    </tr>\n",
       "    <tr>\n",
       "      <th>4</th>\n",
       "      <td>Waelchi-Fahey</td>\n",
       "      <td>Shirt</td>\n",
       "      <td>18</td>\n",
       "      <td>99.64</td>\n",
       "      <td>1793.52</td>\n",
       "    </tr>\n",
       "    <tr>\n",
       "      <th>5</th>\n",
       "      <td>Kerluke, Reilly and Bechtelar</td>\n",
       "      <td>Shirt</td>\n",
       "      <td>17</td>\n",
       "      <td>52.82</td>\n",
       "      <td>897.94</td>\n",
       "    </tr>\n",
       "    <tr>\n",
       "      <th>9</th>\n",
       "      <td>Kerluke, Reilly and Bechtelar</td>\n",
       "      <td>Shirt</td>\n",
       "      <td>12</td>\n",
       "      <td>26.98</td>\n",
       "      <td>323.76</td>\n",
       "    </tr>\n",
       "  </tbody>\n",
       "</table>\n",
       "</div>"
      ],
      "text/plain": [
       "                            name category  quantity  unit_price  total_cost\n",
       "2  Kerluke, Reilly and Bechtelar    Shirt        12       24.16      289.92\n",
       "3                  Waters-Walker    Shirt         5       82.68      413.40\n",
       "4                  Waelchi-Fahey    Shirt        18       99.64     1793.52\n",
       "5  Kerluke, Reilly and Bechtelar    Shirt        17       52.82      897.94\n",
       "9  Kerluke, Reilly and Bechtelar    Shirt        12       26.98      323.76"
      ]
     },
     "execution_count": 18,
     "metadata": {},
     "output_type": "execute_result"
    }
   ],
   "source": [
    "shirt_df.head()"
   ]
  },
  {
   "cell_type": "markdown",
   "metadata": {
    "deletable": true,
    "editable": true
   },
   "source": [
    "#### Group the shirt sales by company name"
   ]
  },
  {
   "cell_type": "code",
   "execution_count": 21,
   "metadata": {
    "collapsed": false,
    "deletable": true,
    "editable": true
   },
   "outputs": [],
   "source": [
    "grouped = shirt_df.groupby('name', as_index=False).sum()"
   ]
  },
  {
   "cell_type": "code",
   "execution_count": 22,
   "metadata": {
    "collapsed": false,
    "deletable": true,
    "editable": true
   },
   "outputs": [
    {
     "data": {
      "text/html": [
       "<div>\n",
       "<table border=\"1\" class=\"dataframe\">\n",
       "  <thead>\n",
       "    <tr style=\"text-align: right;\">\n",
       "      <th></th>\n",
       "      <th>name</th>\n",
       "      <th>quantity</th>\n",
       "      <th>unit_price</th>\n",
       "      <th>total_cost</th>\n",
       "    </tr>\n",
       "  </thead>\n",
       "  <tbody>\n",
       "    <tr>\n",
       "      <th>0</th>\n",
       "      <td>Berge LLC</td>\n",
       "      <td>166</td>\n",
       "      <td>1226.54</td>\n",
       "      <td>9670.24</td>\n",
       "    </tr>\n",
       "    <tr>\n",
       "      <th>1</th>\n",
       "      <td>Carroll PLC</td>\n",
       "      <td>257</td>\n",
       "      <td>1098.93</td>\n",
       "      <td>13717.61</td>\n",
       "    </tr>\n",
       "    <tr>\n",
       "      <th>2</th>\n",
       "      <td>Cole-Eichmann</td>\n",
       "      <td>236</td>\n",
       "      <td>1226.75</td>\n",
       "      <td>14528.01</td>\n",
       "    </tr>\n",
       "    <tr>\n",
       "      <th>3</th>\n",
       "      <td>Davis, Kshlerin and Reilly</td>\n",
       "      <td>161</td>\n",
       "      <td>828.51</td>\n",
       "      <td>7533.03</td>\n",
       "    </tr>\n",
       "    <tr>\n",
       "      <th>4</th>\n",
       "      <td>Ernser, Cruickshank and Lind</td>\n",
       "      <td>262</td>\n",
       "      <td>1500.25</td>\n",
       "      <td>16944.19</td>\n",
       "    </tr>\n",
       "    <tr>\n",
       "      <th>5</th>\n",
       "      <td>Gorczany-Hahn</td>\n",
       "      <td>237</td>\n",
       "      <td>1132.22</td>\n",
       "      <td>12576.83</td>\n",
       "    </tr>\n",
       "    <tr>\n",
       "      <th>6</th>\n",
       "      <td>Hamill-Hackett</td>\n",
       "      <td>148</td>\n",
       "      <td>1091.55</td>\n",
       "      <td>8880.04</td>\n",
       "    </tr>\n",
       "    <tr>\n",
       "      <th>7</th>\n",
       "      <td>Hegmann and Sons</td>\n",
       "      <td>278</td>\n",
       "      <td>1528.84</td>\n",
       "      <td>16774.47</td>\n",
       "    </tr>\n",
       "    <tr>\n",
       "      <th>8</th>\n",
       "      <td>Heidenreich-Bosco</td>\n",
       "      <td>92</td>\n",
       "      <td>582.24</td>\n",
       "      <td>5965.25</td>\n",
       "    </tr>\n",
       "    <tr>\n",
       "      <th>9</th>\n",
       "      <td>Huel-Haag</td>\n",
       "      <td>200</td>\n",
       "      <td>1146.17</td>\n",
       "      <td>11944.01</td>\n",
       "    </tr>\n",
       "    <tr>\n",
       "      <th>10</th>\n",
       "      <td>Kerluke, Reilly and Bechtelar</td>\n",
       "      <td>269</td>\n",
       "      <td>1038.53</td>\n",
       "      <td>12958.23</td>\n",
       "    </tr>\n",
       "    <tr>\n",
       "      <th>11</th>\n",
       "      <td>Kihn, McClure and Denesik</td>\n",
       "      <td>288</td>\n",
       "      <td>1653.58</td>\n",
       "      <td>18956.35</td>\n",
       "    </tr>\n",
       "    <tr>\n",
       "      <th>12</th>\n",
       "      <td>Kilback-Gerlach</td>\n",
       "      <td>163</td>\n",
       "      <td>1052.53</td>\n",
       "      <td>9904.85</td>\n",
       "    </tr>\n",
       "    <tr>\n",
       "      <th>13</th>\n",
       "      <td>Koelpin PLC</td>\n",
       "      <td>132</td>\n",
       "      <td>786.07</td>\n",
       "      <td>7908.28</td>\n",
       "    </tr>\n",
       "    <tr>\n",
       "      <th>14</th>\n",
       "      <td>Kunze Inc</td>\n",
       "      <td>260</td>\n",
       "      <td>1439.92</td>\n",
       "      <td>15638.87</td>\n",
       "    </tr>\n",
       "    <tr>\n",
       "      <th>15</th>\n",
       "      <td>Kuphal, Zieme and Kub</td>\n",
       "      <td>252</td>\n",
       "      <td>1167.28</td>\n",
       "      <td>12101.14</td>\n",
       "    </tr>\n",
       "    <tr>\n",
       "      <th>16</th>\n",
       "      <td>Senger, Upton and Breitenberg</td>\n",
       "      <td>144</td>\n",
       "      <td>939.38</td>\n",
       "      <td>7659.70</td>\n",
       "    </tr>\n",
       "    <tr>\n",
       "      <th>17</th>\n",
       "      <td>Volkman, Goyette and Lemke</td>\n",
       "      <td>220</td>\n",
       "      <td>1136.25</td>\n",
       "      <td>12791.27</td>\n",
       "    </tr>\n",
       "    <tr>\n",
       "      <th>18</th>\n",
       "      <td>Waelchi-Fahey</td>\n",
       "      <td>201</td>\n",
       "      <td>1057.67</td>\n",
       "      <td>11689.05</td>\n",
       "    </tr>\n",
       "    <tr>\n",
       "      <th>19</th>\n",
       "      <td>Waters-Walker</td>\n",
       "      <td>288</td>\n",
       "      <td>1603.36</td>\n",
       "      <td>18633.71</td>\n",
       "    </tr>\n",
       "  </tbody>\n",
       "</table>\n",
       "</div>"
      ],
      "text/plain": [
       "                             name  quantity  unit_price  total_cost\n",
       "0                       Berge LLC       166     1226.54     9670.24\n",
       "1                     Carroll PLC       257     1098.93    13717.61\n",
       "2                   Cole-Eichmann       236     1226.75    14528.01\n",
       "3      Davis, Kshlerin and Reilly       161      828.51     7533.03\n",
       "4    Ernser, Cruickshank and Lind       262     1500.25    16944.19\n",
       "5                   Gorczany-Hahn       237     1132.22    12576.83\n",
       "6                  Hamill-Hackett       148     1091.55     8880.04\n",
       "7                Hegmann and Sons       278     1528.84    16774.47\n",
       "8               Heidenreich-Bosco        92      582.24     5965.25\n",
       "9                       Huel-Haag       200     1146.17    11944.01\n",
       "10  Kerluke, Reilly and Bechtelar       269     1038.53    12958.23\n",
       "11      Kihn, McClure and Denesik       288     1653.58    18956.35\n",
       "12                Kilback-Gerlach       163     1052.53     9904.85\n",
       "13                    Koelpin PLC       132      786.07     7908.28\n",
       "14                      Kunze Inc       260     1439.92    15638.87\n",
       "15          Kuphal, Zieme and Kub       252     1167.28    12101.14\n",
       "16  Senger, Upton and Breitenberg       144      939.38     7659.70\n",
       "17     Volkman, Goyette and Lemke       220     1136.25    12791.27\n",
       "18                  Waelchi-Fahey       201     1057.67    11689.05\n",
       "19                  Waters-Walker       288     1603.36    18633.71"
      ]
     },
     "execution_count": 22,
     "metadata": {},
     "output_type": "execute_result"
    }
   ],
   "source": [
    "grouped"
   ]
  },
  {
   "cell_type": "markdown",
   "metadata": {
    "deletable": true,
    "editable": true
   },
   "source": [
    "#### Pull out top 10 "
   ]
  },
  {
   "cell_type": "code",
   "execution_count": 23,
   "metadata": {
    "collapsed": false,
    "deletable": true,
    "editable": true
   },
   "outputs": [],
   "source": [
    "top_sellers = grouped.sort_values(by='total_cost', ascending=False).head(10)"
   ]
  },
  {
   "cell_type": "code",
   "execution_count": 24,
   "metadata": {
    "collapsed": false,
    "deletable": true,
    "editable": true
   },
   "outputs": [
    {
     "data": {
      "text/html": [
       "<div>\n",
       "<table border=\"1\" class=\"dataframe\">\n",
       "  <thead>\n",
       "    <tr style=\"text-align: right;\">\n",
       "      <th></th>\n",
       "      <th>name</th>\n",
       "      <th>quantity</th>\n",
       "      <th>unit_price</th>\n",
       "      <th>total_cost</th>\n",
       "    </tr>\n",
       "  </thead>\n",
       "  <tbody>\n",
       "    <tr>\n",
       "      <th>11</th>\n",
       "      <td>Kihn, McClure and Denesik</td>\n",
       "      <td>288</td>\n",
       "      <td>1653.58</td>\n",
       "      <td>18956.35</td>\n",
       "    </tr>\n",
       "    <tr>\n",
       "      <th>19</th>\n",
       "      <td>Waters-Walker</td>\n",
       "      <td>288</td>\n",
       "      <td>1603.36</td>\n",
       "      <td>18633.71</td>\n",
       "    </tr>\n",
       "    <tr>\n",
       "      <th>4</th>\n",
       "      <td>Ernser, Cruickshank and Lind</td>\n",
       "      <td>262</td>\n",
       "      <td>1500.25</td>\n",
       "      <td>16944.19</td>\n",
       "    </tr>\n",
       "    <tr>\n",
       "      <th>7</th>\n",
       "      <td>Hegmann and Sons</td>\n",
       "      <td>278</td>\n",
       "      <td>1528.84</td>\n",
       "      <td>16774.47</td>\n",
       "    </tr>\n",
       "    <tr>\n",
       "      <th>14</th>\n",
       "      <td>Kunze Inc</td>\n",
       "      <td>260</td>\n",
       "      <td>1439.92</td>\n",
       "      <td>15638.87</td>\n",
       "    </tr>\n",
       "    <tr>\n",
       "      <th>2</th>\n",
       "      <td>Cole-Eichmann</td>\n",
       "      <td>236</td>\n",
       "      <td>1226.75</td>\n",
       "      <td>14528.01</td>\n",
       "    </tr>\n",
       "    <tr>\n",
       "      <th>1</th>\n",
       "      <td>Carroll PLC</td>\n",
       "      <td>257</td>\n",
       "      <td>1098.93</td>\n",
       "      <td>13717.61</td>\n",
       "    </tr>\n",
       "    <tr>\n",
       "      <th>10</th>\n",
       "      <td>Kerluke, Reilly and Bechtelar</td>\n",
       "      <td>269</td>\n",
       "      <td>1038.53</td>\n",
       "      <td>12958.23</td>\n",
       "    </tr>\n",
       "    <tr>\n",
       "      <th>17</th>\n",
       "      <td>Volkman, Goyette and Lemke</td>\n",
       "      <td>220</td>\n",
       "      <td>1136.25</td>\n",
       "      <td>12791.27</td>\n",
       "    </tr>\n",
       "    <tr>\n",
       "      <th>5</th>\n",
       "      <td>Gorczany-Hahn</td>\n",
       "      <td>237</td>\n",
       "      <td>1132.22</td>\n",
       "      <td>12576.83</td>\n",
       "    </tr>\n",
       "  </tbody>\n",
       "</table>\n",
       "</div>"
      ],
      "text/plain": [
       "                             name  quantity  unit_price  total_cost\n",
       "11      Kihn, McClure and Denesik       288     1653.58    18956.35\n",
       "19                  Waters-Walker       288     1603.36    18633.71\n",
       "4    Ernser, Cruickshank and Lind       262     1500.25    16944.19\n",
       "7                Hegmann and Sons       278     1528.84    16774.47\n",
       "14                      Kunze Inc       260     1439.92    15638.87\n",
       "2                   Cole-Eichmann       236     1226.75    14528.01\n",
       "1                     Carroll PLC       257     1098.93    13717.61\n",
       "10  Kerluke, Reilly and Bechtelar       269     1038.53    12958.23\n",
       "17     Volkman, Goyette and Lemke       220     1136.25    12791.27\n",
       "5                   Gorczany-Hahn       237     1132.22    12576.83"
      ]
     },
     "execution_count": 24,
     "metadata": {},
     "output_type": "execute_result"
    }
   ],
   "source": [
    "top_sellers"
   ]
  },
  {
   "cell_type": "markdown",
   "metadata": {
    "deletable": true,
    "editable": true
   },
   "source": [
    "#### Graph the top 10 shirt sales"
   ]
  },
  {
   "cell_type": "code",
   "execution_count": 30,
   "metadata": {
    "collapsed": false
   },
   "outputs": [
    {
     "data": {
      "text/plain": [
       "<matplotlib.text.Text at 0x109924550>"
      ]
     },
     "execution_count": 30,
     "metadata": {},
     "output_type": "execute_result"
    },
    {
     "data": {
      "image/png": "[encoded data removed]",
      "text/plain": [
       "<matplotlib.figure.Figure at 0x109c69ac8>"
      ]
     },
     "metadata": {},
     "output_type": "display_data"
    }
   ],
   "source": [
    "top_plot = top_sellers.plot(kind=\"bar\",\n",
    "                title=\"Top 10 Shirt Sales\",\n",
    "                x=\"name\",\n",
    "                y=\"total_cost\")\n",
    "top_plot.set_xlabel(\"Company Name\")\n",
    "top_plot.set_ylabel(\"Shirts Sold ($)\")"
   ]
  },
  {
   "cell_type": "markdown",
   "metadata": {
    "deletable": true,
    "editable": true
   },
   "source": [
    "### To turn in your homework:\n",
    "- Save this notebook as a PDF (or html if you can't get PDF output working)\n",
    "- Upload the file to GitHub\n",
    "- Provide the URL to this file on your GitHub repo in canvas "
   ]
  },
  {
   "cell_type": "code",
   "execution_count": null,
   "metadata": {
    "collapsed": true,
    "deletable": true,
    "editable": true
   },
   "outputs": [],
   "source": []
  }
 ],
 "metadata": {
  "kernelspec": {
   "display_name": "Python 3",
   "language": "python",
   "name": "python3"
  },
  "language_info": {
   "codemirror_mode": {
    "name": "ipython",
    "version": 3
   },
   "file_extension": ".py",
   "mimetype": "text/x-python",
   "name": "python",
   "nbconvert_exporter": "python",
   "pygments_lexer": "ipython3",
   "version": "3.5.2"
  }
 },
 "nbformat": 4,
 "nbformat_minor": 2
}
